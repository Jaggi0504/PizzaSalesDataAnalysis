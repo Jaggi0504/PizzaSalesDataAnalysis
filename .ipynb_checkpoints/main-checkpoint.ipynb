{
 "cells": [
  {
   "cell_type": "code",
   "execution_count": 16,
   "id": "61b7f0cc",
   "metadata": {},
   "outputs": [],
   "source": [
    "import pandas as pd\n",
    "import numpy as np\n",
    "import matplotlib.pyplot as plt\n",
    "import seaborn as sns"
   ]
  },
  {
   "cell_type": "code",
   "execution_count": 2,
   "id": "501d5f75",
   "metadata": {},
   "outputs": [],
   "source": [
    "df=pd.read_excel('./pizza_sales_excel_file.xlsx')"
   ]
  },
  {
   "cell_type": "code",
   "execution_count": 3,
   "id": "ae7d6d36",
   "metadata": {},
   "outputs": [
    {
     "data": {
      "text/html": [
       "<div>\n",
       "<style scoped>\n",
       "    .dataframe tbody tr th:only-of-type {\n",
       "        vertical-align: middle;\n",
       "    }\n",
       "\n",
       "    .dataframe tbody tr th {\n",
       "        vertical-align: top;\n",
       "    }\n",
       "\n",
       "    .dataframe thead th {\n",
       "        text-align: right;\n",
       "    }\n",
       "</style>\n",
       "<table border=\"1\" class=\"dataframe\">\n",
       "  <thead>\n",
       "    <tr style=\"text-align: right;\">\n",
       "      <th></th>\n",
       "      <th>pizza_id</th>\n",
       "      <th>order_id</th>\n",
       "      <th>pizza_name_id</th>\n",
       "      <th>quantity</th>\n",
       "      <th>order_date</th>\n",
       "      <th>order_time</th>\n",
       "      <th>unit_price</th>\n",
       "      <th>total_price</th>\n",
       "      <th>pizza_size</th>\n",
       "      <th>pizza_category</th>\n",
       "      <th>pizza_ingredients</th>\n",
       "      <th>pizza_name</th>\n",
       "    </tr>\n",
       "  </thead>\n",
       "  <tbody>\n",
       "    <tr>\n",
       "      <th>0</th>\n",
       "      <td>1</td>\n",
       "      <td>1</td>\n",
       "      <td>hawaiian_m</td>\n",
       "      <td>1</td>\n",
       "      <td>2015-01-01</td>\n",
       "      <td>11:38:36</td>\n",
       "      <td>13.25</td>\n",
       "      <td>13.25</td>\n",
       "      <td>M</td>\n",
       "      <td>Classic</td>\n",
       "      <td>Sliced Ham, Pineapple, Mozzarella Cheese</td>\n",
       "      <td>The Hawaiian Pizza</td>\n",
       "    </tr>\n",
       "    <tr>\n",
       "      <th>1</th>\n",
       "      <td>2</td>\n",
       "      <td>2</td>\n",
       "      <td>classic_dlx_m</td>\n",
       "      <td>1</td>\n",
       "      <td>2015-01-01</td>\n",
       "      <td>11:57:40</td>\n",
       "      <td>16.00</td>\n",
       "      <td>16.00</td>\n",
       "      <td>M</td>\n",
       "      <td>Classic</td>\n",
       "      <td>Pepperoni, Mushrooms, Red Onions, Red Peppers,...</td>\n",
       "      <td>The Classic Deluxe Pizza</td>\n",
       "    </tr>\n",
       "    <tr>\n",
       "      <th>2</th>\n",
       "      <td>3</td>\n",
       "      <td>2</td>\n",
       "      <td>five_cheese_l</td>\n",
       "      <td>1</td>\n",
       "      <td>2015-01-01</td>\n",
       "      <td>11:57:40</td>\n",
       "      <td>18.50</td>\n",
       "      <td>18.50</td>\n",
       "      <td>L</td>\n",
       "      <td>Veggie</td>\n",
       "      <td>Mozzarella Cheese, Provolone Cheese, Smoked Go...</td>\n",
       "      <td>The Five Cheese Pizza</td>\n",
       "    </tr>\n",
       "    <tr>\n",
       "      <th>3</th>\n",
       "      <td>4</td>\n",
       "      <td>2</td>\n",
       "      <td>ital_supr_l</td>\n",
       "      <td>1</td>\n",
       "      <td>2015-01-01</td>\n",
       "      <td>11:57:40</td>\n",
       "      <td>20.75</td>\n",
       "      <td>20.75</td>\n",
       "      <td>L</td>\n",
       "      <td>Supreme</td>\n",
       "      <td>Calabrese Salami, Capocollo, Tomatoes, Red Oni...</td>\n",
       "      <td>The Italian Supreme Pizza</td>\n",
       "    </tr>\n",
       "    <tr>\n",
       "      <th>4</th>\n",
       "      <td>5</td>\n",
       "      <td>2</td>\n",
       "      <td>mexicana_m</td>\n",
       "      <td>1</td>\n",
       "      <td>2015-01-01</td>\n",
       "      <td>11:57:40</td>\n",
       "      <td>16.00</td>\n",
       "      <td>16.00</td>\n",
       "      <td>M</td>\n",
       "      <td>Veggie</td>\n",
       "      <td>Tomatoes, Red Peppers, Jalapeno Peppers, Red O...</td>\n",
       "      <td>The Mexicana Pizza</td>\n",
       "    </tr>\n",
       "  </tbody>\n",
       "</table>\n",
       "</div>"
      ],
      "text/plain": [
       "   pizza_id  order_id  pizza_name_id  quantity order_date order_time  \\\n",
       "0         1         1     hawaiian_m         1 2015-01-01   11:38:36   \n",
       "1         2         2  classic_dlx_m         1 2015-01-01   11:57:40   \n",
       "2         3         2  five_cheese_l         1 2015-01-01   11:57:40   \n",
       "3         4         2    ital_supr_l         1 2015-01-01   11:57:40   \n",
       "4         5         2     mexicana_m         1 2015-01-01   11:57:40   \n",
       "\n",
       "   unit_price  total_price pizza_size pizza_category  \\\n",
       "0       13.25        13.25          M        Classic   \n",
       "1       16.00        16.00          M        Classic   \n",
       "2       18.50        18.50          L         Veggie   \n",
       "3       20.75        20.75          L        Supreme   \n",
       "4       16.00        16.00          M         Veggie   \n",
       "\n",
       "                                   pizza_ingredients  \\\n",
       "0           Sliced Ham, Pineapple, Mozzarella Cheese   \n",
       "1  Pepperoni, Mushrooms, Red Onions, Red Peppers,...   \n",
       "2  Mozzarella Cheese, Provolone Cheese, Smoked Go...   \n",
       "3  Calabrese Salami, Capocollo, Tomatoes, Red Oni...   \n",
       "4  Tomatoes, Red Peppers, Jalapeno Peppers, Red O...   \n",
       "\n",
       "                  pizza_name  \n",
       "0         The Hawaiian Pizza  \n",
       "1   The Classic Deluxe Pizza  \n",
       "2      The Five Cheese Pizza  \n",
       "3  The Italian Supreme Pizza  \n",
       "4         The Mexicana Pizza  "
      ]
     },
     "execution_count": 3,
     "metadata": {},
     "output_type": "execute_result"
    }
   ],
   "source": [
    "df.head()"
   ]
  },
  {
   "cell_type": "code",
   "execution_count": 4,
   "id": "7931c10c",
   "metadata": {},
   "outputs": [
    {
     "data": {
      "text/plain": [
       "(48620, 12)"
      ]
     },
     "execution_count": 4,
     "metadata": {},
     "output_type": "execute_result"
    }
   ],
   "source": [
    "df.shape"
   ]
  },
  {
   "cell_type": "markdown",
   "id": "b6bd7e5d",
   "metadata": {},
   "source": [
    "## KPIs"
   ]
  },
  {
   "cell_type": "code",
   "execution_count": 6,
   "id": "1aa049df",
   "metadata": {},
   "outputs": [
    {
     "data": {
      "text/plain": [
       "817860.05"
      ]
     },
     "execution_count": 6,
     "metadata": {},
     "output_type": "execute_result"
    }
   ],
   "source": [
    "TotalRevenue=df['total_price'].sum()\n",
    "TotalRevenue"
   ]
  },
  {
   "cell_type": "code",
   "execution_count": 9,
   "id": "daecdf45",
   "metadata": {},
   "outputs": [
    {
     "data": {
      "text/plain": [
       "49574"
      ]
     },
     "execution_count": 9,
     "metadata": {},
     "output_type": "execute_result"
    }
   ],
   "source": [
    "TotalPizzasSold=df['quantity'].sum()\n",
    "TotalPizzasSold"
   ]
  },
  {
   "cell_type": "code",
   "execution_count": 11,
   "id": "8859db05",
   "metadata": {},
   "outputs": [
    {
     "data": {
      "text/plain": [
       "21350"
      ]
     },
     "execution_count": 11,
     "metadata": {},
     "output_type": "execute_result"
    }
   ],
   "source": [
    "TotalOrders=df['order_id'].nunique()\n",
    "TotalOrders"
   ]
  },
  {
   "cell_type": "code",
   "execution_count": 14,
   "id": "894adcd4",
   "metadata": {},
   "outputs": [
    {
     "data": {
      "text/plain": [
       "2.321967213114754"
      ]
     },
     "execution_count": 14,
     "metadata": {},
     "output_type": "execute_result"
    }
   ],
   "source": [
    "AvgPizzaPerOrder=TotalPizzasSold/TotalOrders\n",
    "AvgPizzaPerOrder"
   ]
  },
  {
   "cell_type": "code",
   "execution_count": 15,
   "id": "51e8ae37",
   "metadata": {},
   "outputs": [
    {
     "data": {
      "text/plain": [
       "38.30726229508197"
      ]
     },
     "execution_count": 15,
     "metadata": {},
     "output_type": "execute_result"
    }
   ],
   "source": [
    "AvgOrderValue=TotalRevenue/TotalOrders\n",
    "AvgOrderValue"
   ]
  },
  {
   "cell_type": "code",
   "execution_count": 24,
   "id": "fe6410b4",
   "metadata": {},
   "outputs": [
    {
     "data": {
      "text/html": [
       "<div>\n",
       "<style scoped>\n",
       "    .dataframe tbody tr th:only-of-type {\n",
       "        vertical-align: middle;\n",
       "    }\n",
       "\n",
       "    .dataframe tbody tr th {\n",
       "        vertical-align: top;\n",
       "    }\n",
       "\n",
       "    .dataframe thead th {\n",
       "        text-align: right;\n",
       "    }\n",
       "</style>\n",
       "<table border=\"1\" class=\"dataframe\">\n",
       "  <thead>\n",
       "    <tr style=\"text-align: right;\">\n",
       "      <th></th>\n",
       "      <th>pizza_category</th>\n",
       "      <th>total_price</th>\n",
       "    </tr>\n",
       "  </thead>\n",
       "  <tbody>\n",
       "    <tr>\n",
       "      <th>1</th>\n",
       "      <td>Classic</td>\n",
       "      <td>220053.10</td>\n",
       "    </tr>\n",
       "    <tr>\n",
       "      <th>2</th>\n",
       "      <td>Supreme</td>\n",
       "      <td>208197.00</td>\n",
       "    </tr>\n",
       "    <tr>\n",
       "      <th>0</th>\n",
       "      <td>Chicken</td>\n",
       "      <td>195919.50</td>\n",
       "    </tr>\n",
       "    <tr>\n",
       "      <th>3</th>\n",
       "      <td>Veggie</td>\n",
       "      <td>193690.45</td>\n",
       "    </tr>\n",
       "  </tbody>\n",
       "</table>\n",
       "</div>"
      ],
      "text/plain": [
       "  pizza_category  total_price\n",
       "1        Classic    220053.10\n",
       "2        Supreme    208197.00\n",
       "0        Chicken    195919.50\n",
       "3         Veggie    193690.45"
      ]
     },
     "execution_count": 24,
     "metadata": {},
     "output_type": "execute_result"
    }
   ],
   "source": [
    "TotalRevenueByCategory=df.groupby(['pizza_category'], as_index=False)['total_price'].sum().sort_values(by='total_price', ascending=False)\n",
    "TotalRevenueByCategory"
   ]
  },
  {
   "cell_type": "code",
   "execution_count": 38,
   "id": "3b0f566c",
   "metadata": {},
   "outputs": [
    {
     "data": {
      "image/png": "[encoded data removed]",
      "text/plain": [
       "<Figure size 640x480 with 1 Axes>"
      ]
     },
     "metadata": {},
     "output_type": "display_data"
    }
   ],
   "source": [
    "labels=['Classic', 'Supreme', 'Chicken', 'Veggie']\n",
    "plt.pie(TotalRevenueByCategory['total_price'], autopct='%1.1f', labels=labels, colors=['orange', 'lightblue', 'red', 'pink'])\n",
    "plt.show()"
   ]
  },
  {
   "cell_type": "code",
   "execution_count": 39,
   "id": "2511e441",
   "metadata": {},
   "outputs": [
    {
     "data": {
      "text/html": [
       "<div>\n",
       "<style scoped>\n",
       "    .dataframe tbody tr th:only-of-type {\n",
       "        vertical-align: middle;\n",
       "    }\n",
       "\n",
       "    .dataframe tbody tr th {\n",
       "        vertical-align: top;\n",
       "    }\n",
       "\n",
       "    .dataframe thead th {\n",
       "        text-align: right;\n",
       "    }\n",
       "</style>\n",
       "<table border=\"1\" class=\"dataframe\">\n",
       "  <thead>\n",
       "    <tr style=\"text-align: right;\">\n",
       "      <th></th>\n",
       "      <th>pizza_size</th>\n",
       "      <th>total_price</th>\n",
       "    </tr>\n",
       "  </thead>\n",
       "  <tbody>\n",
       "    <tr>\n",
       "      <th>0</th>\n",
       "      <td>L</td>\n",
       "      <td>375318.70</td>\n",
       "    </tr>\n",
       "    <tr>\n",
       "      <th>1</th>\n",
       "      <td>M</td>\n",
       "      <td>249382.25</td>\n",
       "    </tr>\n",
       "    <tr>\n",
       "      <th>2</th>\n",
       "      <td>S</td>\n",
       "      <td>178076.50</td>\n",
       "    </tr>\n",
       "    <tr>\n",
       "      <th>3</th>\n",
       "      <td>XL</td>\n",
       "      <td>14076.00</td>\n",
       "    </tr>\n",
       "    <tr>\n",
       "      <th>4</th>\n",
       "      <td>XXL</td>\n",
       "      <td>1006.60</td>\n",
       "    </tr>\n",
       "  </tbody>\n",
       "</table>\n",
       "</div>"
      ],
      "text/plain": [
       "  pizza_size  total_price\n",
       "0          L    375318.70\n",
       "1          M    249382.25\n",
       "2          S    178076.50\n",
       "3         XL     14076.00\n",
       "4        XXL      1006.60"
      ]
     },
     "execution_count": 39,
     "metadata": {},
     "output_type": "execute_result"
    }
   ],
   "source": [
    "TotalRevenueBySize=df.groupby(['pizza_size'], as_index=False)['total_price'].sum().sort_values(by='total_price', ascending=False)\n",
    "TotalRevenueBySize"
   ]
  },
  {
   "cell_type": "code",
   "execution_count": 40,
   "id": "44dff860",
   "metadata": {},
   "outputs": [
    {
     "data": {
      "image/png": "[encoded data removed]",
      "text/plain": [
       "<Figure size 640x480 with 1 Axes>"
      ]
     },
     "metadata": {},
     "output_type": "display_data"
    }
   ],
   "source": [
    "labels=['L', 'M', 'S', 'XL', 'XXL']\n",
    "plt.pie(TotalRevenueBySize['total_price'], autopct='%1.1f', labels=labels)\n",
    "plt.show()"
   ]
  },
  {
   "cell_type": "code",
   "execution_count": 47,
   "id": "69fd2a76",
   "metadata": {},
   "outputs": [
    {
     "data": {
      "text/html": [
       "<div>\n",
       "<style scoped>\n",
       "    .dataframe tbody tr th:only-of-type {\n",
       "        vertical-align: middle;\n",
       "    }\n",
       "\n",
       "    .dataframe tbody tr th {\n",
       "        vertical-align: top;\n",
       "    }\n",
       "\n",
       "    .dataframe thead th {\n",
       "        text-align: right;\n",
       "    }\n",
       "</style>\n",
       "<table border=\"1\" class=\"dataframe\">\n",
       "  <thead>\n",
       "    <tr style=\"text-align: right;\">\n",
       "      <th></th>\n",
       "      <th>pizza_size</th>\n",
       "      <th>quantity</th>\n",
       "    </tr>\n",
       "  </thead>\n",
       "  <tbody>\n",
       "    <tr>\n",
       "      <th>0</th>\n",
       "      <td>L</td>\n",
       "      <td>18956</td>\n",
       "    </tr>\n",
       "    <tr>\n",
       "      <th>1</th>\n",
       "      <td>M</td>\n",
       "      <td>15635</td>\n",
       "    </tr>\n",
       "    <tr>\n",
       "      <th>2</th>\n",
       "      <td>S</td>\n",
       "      <td>14403</td>\n",
       "    </tr>\n",
       "    <tr>\n",
       "      <th>3</th>\n",
       "      <td>XL</td>\n",
       "      <td>552</td>\n",
       "    </tr>\n",
       "    <tr>\n",
       "      <th>4</th>\n",
       "      <td>XXL</td>\n",
       "      <td>28</td>\n",
       "    </tr>\n",
       "  </tbody>\n",
       "</table>\n",
       "</div>"
      ],
      "text/plain": [
       "  pizza_size  quantity\n",
       "0          L     18956\n",
       "1          M     15635\n",
       "2          S     14403\n",
       "3         XL       552\n",
       "4        XXL        28"
      ]
     },
     "execution_count": 47,
     "metadata": {},
     "output_type": "execute_result"
    }
   ],
   "source": [
    "TotalPizzasSoldBySize=df.groupby(['pizza_size'], as_index=False)['quantity'].sum().sort_values(by='quantity', ascending=False)\n",
    "TotalPizzasSoldBySize"
   ]
  },
  {
   "cell_type": "code",
   "execution_count": 48,
   "id": "21c326aa",
   "metadata": {},
   "outputs": [
    {
     "data": {
      "image/png": "[encoded data removed]",
      "text/plain": [
       "<Figure size 640x480 with 1 Axes>"
      ]
     },
     "metadata": {},
     "output_type": "display_data"
    }
   ],
   "source": [
    "ax=sns.barplot(x='pizza_size', y='quantity', data=TotalPizzasSoldBySize)\n",
    "for bars in ax.containers:\n",
    "    ax.bar_label(bars)\n",
    "plt.show()"
   ]
  },
  {
   "cell_type": "code",
   "execution_count": 49,
   "id": "0cc03d5c",
   "metadata": {},
   "outputs": [
    {
     "data": {
      "text/html": [
       "<div>\n",
       "<style scoped>\n",
       "    .dataframe tbody tr th:only-of-type {\n",
       "        vertical-align: middle;\n",
       "    }\n",
       "\n",
       "    .dataframe tbody tr th {\n",
       "        vertical-align: top;\n",
       "    }\n",
       "\n",
       "    .dataframe thead th {\n",
       "        text-align: right;\n",
       "    }\n",
       "</style>\n",
       "<table border=\"1\" class=\"dataframe\">\n",
       "  <thead>\n",
       "    <tr style=\"text-align: right;\">\n",
       "      <th></th>\n",
       "      <th>pizza_category</th>\n",
       "      <th>quantity</th>\n",
       "    </tr>\n",
       "  </thead>\n",
       "  <tbody>\n",
       "    <tr>\n",
       "      <th>1</th>\n",
       "      <td>Classic</td>\n",
       "      <td>14888</td>\n",
       "    </tr>\n",
       "    <tr>\n",
       "      <th>2</th>\n",
       "      <td>Supreme</td>\n",
       "      <td>11987</td>\n",
       "    </tr>\n",
       "    <tr>\n",
       "      <th>3</th>\n",
       "      <td>Veggie</td>\n",
       "      <td>11649</td>\n",
       "    </tr>\n",
       "    <tr>\n",
       "      <th>0</th>\n",
       "      <td>Chicken</td>\n",
       "      <td>11050</td>\n",
       "    </tr>\n",
       "  </tbody>\n",
       "</table>\n",
       "</div>"
      ],
      "text/plain": [
       "  pizza_category  quantity\n",
       "1        Classic     14888\n",
       "2        Supreme     11987\n",
       "3         Veggie     11649\n",
       "0        Chicken     11050"
      ]
     },
     "execution_count": 49,
     "metadata": {},
     "output_type": "execute_result"
    }
   ],
   "source": [
    "TotalPizzasSoldByCategory=df.groupby(['pizza_category'], as_index=False)['quantity'].sum().sort_values(by='quantity', ascending=False)\n",
    "TotalPizzasSoldByCategory"
   ]
  },
  {
   "cell_type": "code",
   "execution_count": 50,
   "id": "5a2d711f",
   "metadata": {},
   "outputs": [
    {
     "data": {
      "image/png": "[encoded data removed]",
      "text/plain": [
       "<Figure size 640x480 with 1 Axes>"
      ]
     },
     "metadata": {},
     "output_type": "display_data"
    }
   ],
   "source": [
    "ax=sns.barplot(x='pizza_category', y='quantity', data=TotalPizzasSoldByCategory)\n",
    "for bars in ax.containers:\n",
    "    ax.bar_label(bars)\n",
    "plt.show()"
   ]
  },
  {
   "cell_type": "code",
   "execution_count": 53,
   "id": "ebfa7df3",
   "metadata": {},
   "outputs": [
    {
     "data": {
      "text/html": [
       "<div>\n",
       "<style scoped>\n",
       "    .dataframe tbody tr th:only-of-type {\n",
       "        vertical-align: middle;\n",
       "    }\n",
       "\n",
       "    .dataframe tbody tr th {\n",
       "        vertical-align: top;\n",
       "    }\n",
       "\n",
       "    .dataframe thead th {\n",
       "        text-align: right;\n",
       "    }\n",
       "</style>\n",
       "<table border=\"1\" class=\"dataframe\">\n",
       "  <thead>\n",
       "    <tr style=\"text-align: right;\">\n",
       "      <th></th>\n",
       "      <th>pizza_id</th>\n",
       "      <th>order_id</th>\n",
       "      <th>pizza_name_id</th>\n",
       "      <th>quantity</th>\n",
       "      <th>order_date</th>\n",
       "      <th>order_time</th>\n",
       "      <th>unit_price</th>\n",
       "      <th>total_price</th>\n",
       "      <th>pizza_size</th>\n",
       "      <th>pizza_category</th>\n",
       "      <th>pizza_ingredients</th>\n",
       "      <th>pizza_name</th>\n",
       "    </tr>\n",
       "  </thead>\n",
       "  <tbody>\n",
       "    <tr>\n",
       "      <th>11576</th>\n",
       "      <td>11577</td>\n",
       "      <td>5091</td>\n",
       "      <td>bbq_ckn_l</td>\n",
       "      <td>1</td>\n",
       "      <td>2015-03-27</td>\n",
       "      <td>16:25:42</td>\n",
       "      <td>20.75</td>\n",
       "      <td>20.75</td>\n",
       "      <td>L</td>\n",
       "      <td>Chicken</td>\n",
       "      <td>Barbecued Chicken, Red Peppers, Green Peppers,...</td>\n",
       "      <td>The Barbecue Chicken Pizza</td>\n",
       "    </tr>\n",
       "    <tr>\n",
       "      <th>10936</th>\n",
       "      <td>10937</td>\n",
       "      <td>4789</td>\n",
       "      <td>pepperoni_l</td>\n",
       "      <td>2</td>\n",
       "      <td>2015-03-22</td>\n",
       "      <td>13:56:27</td>\n",
       "      <td>15.25</td>\n",
       "      <td>30.50</td>\n",
       "      <td>L</td>\n",
       "      <td>Classic</td>\n",
       "      <td>Mozzarella Cheese, Pepperoni</td>\n",
       "      <td>The Pepperoni Pizza</td>\n",
       "    </tr>\n",
       "    <tr>\n",
       "      <th>39831</th>\n",
       "      <td>39832</td>\n",
       "      <td>17532</td>\n",
       "      <td>ckn_alfredo_m</td>\n",
       "      <td>1</td>\n",
       "      <td>2015-10-25</td>\n",
       "      <td>13:57:28</td>\n",
       "      <td>16.75</td>\n",
       "      <td>16.75</td>\n",
       "      <td>M</td>\n",
       "      <td>Chicken</td>\n",
       "      <td>Chicken, Red Onions, Red Peppers, Mushrooms, A...</td>\n",
       "      <td>The Chicken Alfredo Pizza</td>\n",
       "    </tr>\n",
       "    <tr>\n",
       "      <th>39924</th>\n",
       "      <td>39925</td>\n",
       "      <td>17571</td>\n",
       "      <td>ital_veggie_m</td>\n",
       "      <td>1</td>\n",
       "      <td>2015-10-27</td>\n",
       "      <td>12:55:42</td>\n",
       "      <td>16.75</td>\n",
       "      <td>16.75</td>\n",
       "      <td>M</td>\n",
       "      <td>Veggie</td>\n",
       "      <td>Eggplant, Artichokes, Tomatoes, Zucchini, Red ...</td>\n",
       "      <td>The Italian Vegetables Pizza</td>\n",
       "    </tr>\n",
       "    <tr>\n",
       "      <th>44083</th>\n",
       "      <td>44084</td>\n",
       "      <td>19373</td>\n",
       "      <td>bbq_ckn_l</td>\n",
       "      <td>1</td>\n",
       "      <td>2015-11-26</td>\n",
       "      <td>19:14:21</td>\n",
       "      <td>20.75</td>\n",
       "      <td>20.75</td>\n",
       "      <td>L</td>\n",
       "      <td>Chicken</td>\n",
       "      <td>Barbecued Chicken, Red Peppers, Green Peppers,...</td>\n",
       "      <td>The Barbecue Chicken Pizza</td>\n",
       "    </tr>\n",
       "  </tbody>\n",
       "</table>\n",
       "</div>"
      ],
      "text/plain": [
       "       pizza_id  order_id  pizza_name_id  quantity order_date order_time  \\\n",
       "11576     11577      5091      bbq_ckn_l         1 2015-03-27   16:25:42   \n",
       "10936     10937      4789    pepperoni_l         2 2015-03-22   13:56:27   \n",
       "39831     39832     17532  ckn_alfredo_m         1 2015-10-25   13:57:28   \n",
       "39924     39925     17571  ital_veggie_m         1 2015-10-27   12:55:42   \n",
       "44083     44084     19373      bbq_ckn_l         1 2015-11-26   19:14:21   \n",
       "\n",
       "       unit_price  total_price pizza_size pizza_category  \\\n",
       "11576       20.75        20.75          L        Chicken   \n",
       "10936       15.25        30.50          L        Classic   \n",
       "39831       16.75        16.75          M        Chicken   \n",
       "39924       16.75        16.75          M         Veggie   \n",
       "44083       20.75        20.75          L        Chicken   \n",
       "\n",
       "                                       pizza_ingredients  \\\n",
       "11576  Barbecued Chicken, Red Peppers, Green Peppers,...   \n",
       "10936                       Mozzarella Cheese, Pepperoni   \n",
       "39831  Chicken, Red Onions, Red Peppers, Mushrooms, A...   \n",
       "39924  Eggplant, Artichokes, Tomatoes, Zucchini, Red ...   \n",
       "44083  Barbecued Chicken, Red Peppers, Green Peppers,...   \n",
       "\n",
       "                         pizza_name  \n",
       "11576    The Barbecue Chicken Pizza  \n",
       "10936           The Pepperoni Pizza  \n",
       "39831     The Chicken Alfredo Pizza  \n",
       "39924  The Italian Vegetables Pizza  \n",
       "44083    The Barbecue Chicken Pizza  "
      ]
     },
     "execution_count": 53,
     "metadata": {},
     "output_type": "execute_result"
    }
   ],
   "source": [
    "df.sample(5)"
   ]
  },
  {
   "cell_type": "code",
   "execution_count": 60,
   "id": "a1d73242",
   "metadata": {},
   "outputs": [
    {
     "data": {
      "text/plain": [
       "pandas.core.series.Series"
      ]
     },
     "execution_count": 60,
     "metadata": {},
     "output_type": "execute_result"
    }
   ],
   "source": [
    "type(df['order_date'])"
   ]
  },
  {
   "cell_type": "code",
   "execution_count": 61,
   "id": "26bbb703",
   "metadata": {},
   "outputs": [],
   "source": [
    "df['month']=df['order_date'].dt.month"
   ]
  },
  {
   "cell_type": "code",
   "execution_count": 63,
   "id": "c03f89eb",
   "metadata": {},
   "outputs": [
    {
     "data": {
      "text/html": [
       "<div>\n",
       "<style scoped>\n",
       "    .dataframe tbody tr th:only-of-type {\n",
       "        vertical-align: middle;\n",
       "    }\n",
       "\n",
       "    .dataframe tbody tr th {\n",
       "        vertical-align: top;\n",
       "    }\n",
       "\n",
       "    .dataframe thead th {\n",
       "        text-align: right;\n",
       "    }\n",
       "</style>\n",
       "<table border=\"1\" class=\"dataframe\">\n",
       "  <thead>\n",
       "    <tr style=\"text-align: right;\">\n",
       "      <th></th>\n",
       "      <th>pizza_id</th>\n",
       "      <th>order_id</th>\n",
       "      <th>pizza_name_id</th>\n",
       "      <th>quantity</th>\n",
       "      <th>order_date</th>\n",
       "      <th>order_time</th>\n",
       "      <th>unit_price</th>\n",
       "      <th>total_price</th>\n",
       "      <th>pizza_size</th>\n",
       "      <th>pizza_category</th>\n",
       "      <th>pizza_ingredients</th>\n",
       "      <th>pizza_name</th>\n",
       "      <th>month</th>\n",
       "    </tr>\n",
       "  </thead>\n",
       "  <tbody>\n",
       "    <tr>\n",
       "      <th>21523</th>\n",
       "      <td>21524</td>\n",
       "      <td>9446</td>\n",
       "      <td>cali_ckn_l</td>\n",
       "      <td>1</td>\n",
       "      <td>2015-06-08</td>\n",
       "      <td>11:40:54</td>\n",
       "      <td>20.75</td>\n",
       "      <td>20.75</td>\n",
       "      <td>L</td>\n",
       "      <td>Chicken</td>\n",
       "      <td>Chicken, Artichoke, Spinach, Garlic, Jalapeno ...</td>\n",
       "      <td>The California Chicken Pizza</td>\n",
       "      <td>6</td>\n",
       "    </tr>\n",
       "    <tr>\n",
       "      <th>38346</th>\n",
       "      <td>38347</td>\n",
       "      <td>16913</td>\n",
       "      <td>the_greek_l</td>\n",
       "      <td>1</td>\n",
       "      <td>2015-10-14</td>\n",
       "      <td>16:36:17</td>\n",
       "      <td>20.50</td>\n",
       "      <td>20.50</td>\n",
       "      <td>L</td>\n",
       "      <td>Classic</td>\n",
       "      <td>Kalamata Olives, Feta Cheese, Tomatoes, Garlic...</td>\n",
       "      <td>The Greek Pizza</td>\n",
       "      <td>10</td>\n",
       "    </tr>\n",
       "    <tr>\n",
       "      <th>23331</th>\n",
       "      <td>23332</td>\n",
       "      <td>10260</td>\n",
       "      <td>veggie_veg_m</td>\n",
       "      <td>1</td>\n",
       "      <td>2015-06-21</td>\n",
       "      <td>18:48:35</td>\n",
       "      <td>16.00</td>\n",
       "      <td>16.00</td>\n",
       "      <td>M</td>\n",
       "      <td>Veggie</td>\n",
       "      <td>Mushrooms, Tomatoes, Red Peppers, Green Pepper...</td>\n",
       "      <td>The Vegetables + Vegetables Pizza</td>\n",
       "      <td>6</td>\n",
       "    </tr>\n",
       "    <tr>\n",
       "      <th>26404</th>\n",
       "      <td>26405</td>\n",
       "      <td>11625</td>\n",
       "      <td>sicilian_m</td>\n",
       "      <td>1</td>\n",
       "      <td>2015-07-13</td>\n",
       "      <td>18:41:42</td>\n",
       "      <td>16.25</td>\n",
       "      <td>16.25</td>\n",
       "      <td>M</td>\n",
       "      <td>Supreme</td>\n",
       "      <td>Coarse Sicilian Salami, Tomatoes, Green Olives...</td>\n",
       "      <td>The Sicilian Pizza</td>\n",
       "      <td>7</td>\n",
       "    </tr>\n",
       "    <tr>\n",
       "      <th>17519</th>\n",
       "      <td>17520</td>\n",
       "      <td>7696</td>\n",
       "      <td>pepperoni_s</td>\n",
       "      <td>1</td>\n",
       "      <td>2015-05-09</td>\n",
       "      <td>20:35:01</td>\n",
       "      <td>9.75</td>\n",
       "      <td>9.75</td>\n",
       "      <td>S</td>\n",
       "      <td>Classic</td>\n",
       "      <td>Mozzarella Cheese, Pepperoni</td>\n",
       "      <td>The Pepperoni Pizza</td>\n",
       "      <td>5</td>\n",
       "    </tr>\n",
       "  </tbody>\n",
       "</table>\n",
       "</div>"
      ],
      "text/plain": [
       "       pizza_id  order_id pizza_name_id  quantity order_date order_time  \\\n",
       "21523     21524      9446    cali_ckn_l         1 2015-06-08   11:40:54   \n",
       "38346     38347     16913   the_greek_l         1 2015-10-14   16:36:17   \n",
       "23331     23332     10260  veggie_veg_m         1 2015-06-21   18:48:35   \n",
       "26404     26405     11625    sicilian_m         1 2015-07-13   18:41:42   \n",
       "17519     17520      7696   pepperoni_s         1 2015-05-09   20:35:01   \n",
       "\n",
       "       unit_price  total_price pizza_size pizza_category  \\\n",
       "21523       20.75        20.75          L        Chicken   \n",
       "38346       20.50        20.50          L        Classic   \n",
       "23331       16.00        16.00          M         Veggie   \n",
       "26404       16.25        16.25          M        Supreme   \n",
       "17519        9.75         9.75          S        Classic   \n",
       "\n",
       "                                       pizza_ingredients  \\\n",
       "21523  Chicken, Artichoke, Spinach, Garlic, Jalapeno ...   \n",
       "38346  Kalamata Olives, Feta Cheese, Tomatoes, Garlic...   \n",
       "23331  Mushrooms, Tomatoes, Red Peppers, Green Pepper...   \n",
       "26404  Coarse Sicilian Salami, Tomatoes, Green Olives...   \n",
       "17519                       Mozzarella Cheese, Pepperoni   \n",
       "\n",
       "                              pizza_name  month  \n",
       "21523       The California Chicken Pizza      6  \n",
       "38346                    The Greek Pizza     10  \n",
       "23331  The Vegetables + Vegetables Pizza      6  \n",
       "26404                 The Sicilian Pizza      7  \n",
       "17519                The Pepperoni Pizza      5  "
      ]
     },
     "execution_count": 63,
     "metadata": {},
     "output_type": "execute_result"
    }
   ],
   "source": [
    "df.sample(5)"
   ]
  },
  {
   "cell_type": "code",
   "execution_count": 81,
   "id": "d3030a98",
   "metadata": {},
   "outputs": [
    {
     "data": {
      "text/html": [
       "<div>\n",
       "<style scoped>\n",
       "    .dataframe tbody tr th:only-of-type {\n",
       "        vertical-align: middle;\n",
       "    }\n",
       "\n",
       "    .dataframe tbody tr th {\n",
       "        vertical-align: top;\n",
       "    }\n",
       "\n",
       "    .dataframe thead th {\n",
       "        text-align: right;\n",
       "    }\n",
       "</style>\n",
       "<table border=\"1\" class=\"dataframe\">\n",
       "  <thead>\n",
       "    <tr style=\"text-align: right;\">\n",
       "      <th></th>\n",
       "      <th>month</th>\n",
       "      <th>order_id</th>\n",
       "    </tr>\n",
       "  </thead>\n",
       "  <tbody>\n",
       "    <tr>\n",
       "      <th>11</th>\n",
       "      <td>12</td>\n",
       "      <td>1680</td>\n",
       "    </tr>\n",
       "    <tr>\n",
       "      <th>10</th>\n",
       "      <td>11</td>\n",
       "      <td>1792</td>\n",
       "    </tr>\n",
       "    <tr>\n",
       "      <th>9</th>\n",
       "      <td>10</td>\n",
       "      <td>1646</td>\n",
       "    </tr>\n",
       "    <tr>\n",
       "      <th>8</th>\n",
       "      <td>9</td>\n",
       "      <td>1661</td>\n",
       "    </tr>\n",
       "    <tr>\n",
       "      <th>7</th>\n",
       "      <td>8</td>\n",
       "      <td>1841</td>\n",
       "    </tr>\n",
       "    <tr>\n",
       "      <th>6</th>\n",
       "      <td>7</td>\n",
       "      <td>1935</td>\n",
       "    </tr>\n",
       "    <tr>\n",
       "      <th>5</th>\n",
       "      <td>6</td>\n",
       "      <td>1773</td>\n",
       "    </tr>\n",
       "    <tr>\n",
       "      <th>4</th>\n",
       "      <td>5</td>\n",
       "      <td>1853</td>\n",
       "    </tr>\n",
       "    <tr>\n",
       "      <th>3</th>\n",
       "      <td>4</td>\n",
       "      <td>1799</td>\n",
       "    </tr>\n",
       "    <tr>\n",
       "      <th>2</th>\n",
       "      <td>3</td>\n",
       "      <td>1840</td>\n",
       "    </tr>\n",
       "    <tr>\n",
       "      <th>1</th>\n",
       "      <td>2</td>\n",
       "      <td>1685</td>\n",
       "    </tr>\n",
       "    <tr>\n",
       "      <th>0</th>\n",
       "      <td>1</td>\n",
       "      <td>1845</td>\n",
       "    </tr>\n",
       "  </tbody>\n",
       "</table>\n",
       "</div>"
      ],
      "text/plain": [
       "    month  order_id\n",
       "11     12      1680\n",
       "10     11      1792\n",
       "9      10      1646\n",
       "8       9      1661\n",
       "7       8      1841\n",
       "6       7      1935\n",
       "5       6      1773\n",
       "4       5      1853\n",
       "3       4      1799\n",
       "2       3      1840\n",
       "1       2      1685\n",
       "0       1      1845"
      ]
     },
     "execution_count": 81,
     "metadata": {},
     "output_type": "execute_result"
    }
   ],
   "source": [
    "TotalOrdersByMonth=df.groupby(['month'], as_index=False)['order_id'].nunique().sort_values(by='month', ascending=False)\n",
    "TotalOrdersByMonth"
   ]
  },
  {
   "cell_type": "code",
   "execution_count": 79,
   "id": "a281866b",
   "metadata": {},
   "outputs": [
    {
     "data": {
      "image/png": "[encoded data removed]",
      "text/plain": [
       "<Figure size 640x480 with 1 Axes>"
      ]
     },
     "metadata": {},
     "output_type": "display_data"
    }
   ],
   "source": [
    "ax=sns.barplot(x='month', y='order_id', data=TotalOrdersByMonth)\n",
    "for bars in ax.containers:\n",
    "    ax.bar_label(bars)\n",
    "ax.set(xticklabels=['Jan', 'Feb', 'Mar', 'Apr', 'May', 'June', 'Jul', 'Aug', 'Sep', 'Oct', 'Nov', 'Dec'])\n",
    "plt.show()"
   ]
  },
  {
   "cell_type": "code",
   "execution_count": null,
   "id": "975ba4cd",
   "metadata": {},
   "outputs": [],
   "source": []
  }
 ],
 "metadata": {
  "kernelspec": {
   "display_name": "Python 3 (ipykernel)",
   "language": "python",
   "name": "python3"
  },
  "language_info": {
   "codemirror_mode": {
    "name": "ipython",
    "version": 3
   },
   "file_extension": ".py",
   "mimetype": "text/x-python",
   "name": "python",
   "nbconvert_exporter": "python",
   "pygments_lexer": "ipython3",
   "version": "3.11.4"
  }
 },
 "nbformat": 4,
 "nbformat_minor": 5
}
